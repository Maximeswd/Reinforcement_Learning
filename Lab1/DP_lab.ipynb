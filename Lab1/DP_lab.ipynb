{
 "cells": [
  {
   "cell_type": "markdown",
   "metadata": {},
   "source": [
    "# Reinforcement Learning - Dynamic Programming\n",
    "If you want to test/submit your solution **restart the kernel, run all cells and submit the dp_autograde.py file into codegrade.**"
   ]
  },
  {
   "cell_type": "code",
   "execution_count": 21,
   "metadata": {},
   "outputs": [],
   "source": [
    "# This cell imports %%execwritefile command (executes cell and writes it into file). \n",
    "# All cells that start with %%execwritefile should be in dp_autograde.py file after running all cells.\n",
    "from custommagics import CustomMagics\n",
    "get_ipython().register_magics(CustomMagics)"
   ]
  },
  {
   "cell_type": "code",
   "execution_count": 22,
   "metadata": {},
   "outputs": [
    {
     "name": "stdout",
     "output_type": "stream",
     "text": [
      "Overwriting dp_autograde.py\n"
     ]
    }
   ],
   "source": [
    "%%execwritefile dp_autograde.py\n",
    "import numpy as np\n",
    "from collections import defaultdict"
   ]
  },
  {
   "cell_type": "code",
   "execution_count": 23,
   "metadata": {},
   "outputs": [],
   "source": [
    "import matplotlib.pyplot as plt\n",
    "import sys\n",
    "\n",
    "%matplotlib inline\n",
    "\n",
    "assert sys.version_info[:3] >= (3, 6, 0), \"Make sure you have Python 3.6 installed!\""
   ]
  },
  {
   "cell_type": "markdown",
   "metadata": {},
   "source": [
    "## 1. Policy Evaluation (1 point)\n",
    "In this exercise we will evaluate a policy, e.g. find the value function of a policy. The problem we consider is the gridworld from Example 4.1 in the book. The environment is implemented as `GridworldEnv`, which is a subclass of the `Env` class from [OpenAI Gym](https://github.com/openai/gym). This means that we can interact with the environment. We can look at the documentation to see how we can interact with the environment."
   ]
  },
  {
   "cell_type": "code",
   "execution_count": 24,
   "metadata": {},
   "outputs": [
    {
     "name": "stdout",
     "output_type": "stream",
     "text": [
      "\u001b[0;31mType:\u001b[0m        GridworldEnv\n",
      "\u001b[0;31mString form:\u001b[0m <GridworldEnv instance>\n",
      "\u001b[0;31mFile:\u001b[0m        ~/Documents/Master_AI/Year_2/Reinforcement_Learning/Reinforcement_Learning/Lab1/gridworld.py\n",
      "\u001b[0;31mDocstring:\u001b[0m  \n",
      "Grid World environment from Sutton's Reinforcement Learning book chapter 4.\n",
      "You are an agent on an MxN grid and your goal is to reach the terminal\n",
      "state at the top left or the bottom right corner.\n",
      "\n",
      "For example, a 4x4 grid looks as follows:\n",
      "\n",
      "T  o  o  o\n",
      "o  x  o  o\n",
      "o  o  o  o\n",
      "o  o  o  T\n",
      "\n",
      "x is your position and T are the two terminal states.\n",
      "\n",
      "You can take actions in each direction (UP=0, RIGHT=1, DOWN=2, LEFT=3).\n",
      "Actions going off the edge leave you in your current state.\n",
      "You receive a reward of -1 at each step until you reach a terminal state.\n"
     ]
    }
   ],
   "source": [
    "from gridworld import GridworldEnv\n",
    "env = GridworldEnv()\n",
    "# Lets see what this is\n",
    "?env"
   ]
  },
  {
   "cell_type": "code",
   "execution_count": 25,
   "metadata": {},
   "outputs": [
    {
     "name": "stdout",
     "output_type": "stream",
     "text": [
      "\u001b[0;31mType:\u001b[0m        GridworldEnv\n",
      "\u001b[0;31mString form:\u001b[0m <GridworldEnv instance>\n",
      "\u001b[0;31mFile:\u001b[0m        ~/Documents/Master_AI/Year_2/Reinforcement_Learning/Reinforcement_Learning/Lab1/gridworld.py\n",
      "\u001b[0;31mSource:\u001b[0m     \n",
      "\u001b[0;32mclass\u001b[0m \u001b[0mGridworldEnv\u001b[0m\u001b[0;34m(\u001b[0m\u001b[0mdiscrete\u001b[0m\u001b[0;34m.\u001b[0m\u001b[0mDiscreteEnv\u001b[0m\u001b[0;34m)\u001b[0m\u001b[0;34m:\u001b[0m\u001b[0;34m\u001b[0m\n",
      "\u001b[0;34m\u001b[0m    \u001b[0;34m\"\"\"\u001b[0m\n",
      "\u001b[0;34m    Grid World environment from Sutton's Reinforcement Learning book chapter 4.\u001b[0m\n",
      "\u001b[0;34m    You are an agent on an MxN grid and your goal is to reach the terminal\u001b[0m\n",
      "\u001b[0;34m    state at the top left or the bottom right corner.\u001b[0m\n",
      "\u001b[0;34m\u001b[0m\n",
      "\u001b[0;34m    For example, a 4x4 grid looks as follows:\u001b[0m\n",
      "\u001b[0;34m\u001b[0m\n",
      "\u001b[0;34m    T  o  o  o\u001b[0m\n",
      "\u001b[0;34m    o  x  o  o\u001b[0m\n",
      "\u001b[0;34m    o  o  o  o\u001b[0m\n",
      "\u001b[0;34m    o  o  o  T\u001b[0m\n",
      "\u001b[0;34m\u001b[0m\n",
      "\u001b[0;34m    x is your position and T are the two terminal states.\u001b[0m\n",
      "\u001b[0;34m\u001b[0m\n",
      "\u001b[0;34m    You can take actions in each direction (UP=0, RIGHT=1, DOWN=2, LEFT=3).\u001b[0m\n",
      "\u001b[0;34m    Actions going off the edge leave you in your current state.\u001b[0m\n",
      "\u001b[0;34m    You receive a reward of -1 at each step until you reach a terminal state.\u001b[0m\n",
      "\u001b[0;34m    \"\"\"\u001b[0m\u001b[0;34m\u001b[0m\n",
      "\u001b[0;34m\u001b[0m\u001b[0;34m\u001b[0m\n",
      "\u001b[0;34m\u001b[0m    \u001b[0mmetadata\u001b[0m \u001b[0;34m=\u001b[0m \u001b[0;34m{\u001b[0m\u001b[0;34m'render.modes'\u001b[0m\u001b[0;34m:\u001b[0m \u001b[0;34m[\u001b[0m\u001b[0;34m'human'\u001b[0m\u001b[0;34m,\u001b[0m \u001b[0;34m'ansi'\u001b[0m\u001b[0;34m]\u001b[0m\u001b[0;34m}\u001b[0m\u001b[0;34m\u001b[0m\n",
      "\u001b[0;34m\u001b[0m\u001b[0;34m\u001b[0m\n",
      "\u001b[0;34m\u001b[0m    \u001b[0;32mdef\u001b[0m \u001b[0m__init__\u001b[0m\u001b[0;34m(\u001b[0m\u001b[0mself\u001b[0m\u001b[0;34m,\u001b[0m \u001b[0mshape\u001b[0m\u001b[0;34m=\u001b[0m\u001b[0;34m[\u001b[0m\u001b[0;36m4\u001b[0m\u001b[0;34m,\u001b[0m\u001b[0;36m4\u001b[0m\u001b[0;34m]\u001b[0m\u001b[0;34m)\u001b[0m\u001b[0;34m:\u001b[0m\u001b[0;34m\u001b[0m\n",
      "\u001b[0;34m\u001b[0m        \u001b[0;32mif\u001b[0m \u001b[0;32mnot\u001b[0m \u001b[0misinstance\u001b[0m\u001b[0;34m(\u001b[0m\u001b[0mshape\u001b[0m\u001b[0;34m,\u001b[0m \u001b[0;34m(\u001b[0m\u001b[0mlist\u001b[0m\u001b[0;34m,\u001b[0m \u001b[0mtuple\u001b[0m\u001b[0;34m)\u001b[0m\u001b[0;34m)\u001b[0m \u001b[0;32mor\u001b[0m \u001b[0;32mnot\u001b[0m \u001b[0mlen\u001b[0m\u001b[0;34m(\u001b[0m\u001b[0mshape\u001b[0m\u001b[0;34m)\u001b[0m \u001b[0;34m==\u001b[0m \u001b[0;36m2\u001b[0m\u001b[0;34m:\u001b[0m\u001b[0;34m\u001b[0m\n",
      "\u001b[0;34m\u001b[0m            \u001b[0;32mraise\u001b[0m \u001b[0mValueError\u001b[0m\u001b[0;34m(\u001b[0m\u001b[0;34m'shape argument must be a list/tuple of length 2'\u001b[0m\u001b[0;34m)\u001b[0m\u001b[0;34m\u001b[0m\n",
      "\u001b[0;34m\u001b[0m\u001b[0;34m\u001b[0m\n",
      "\u001b[0;34m\u001b[0m        \u001b[0mself\u001b[0m\u001b[0;34m.\u001b[0m\u001b[0mshape\u001b[0m \u001b[0;34m=\u001b[0m \u001b[0mshape\u001b[0m\u001b[0;34m\u001b[0m\n",
      "\u001b[0;34m\u001b[0m\u001b[0;34m\u001b[0m\n",
      "\u001b[0;34m\u001b[0m        \u001b[0mnS\u001b[0m \u001b[0;34m=\u001b[0m \u001b[0mnp\u001b[0m\u001b[0;34m.\u001b[0m\u001b[0mprod\u001b[0m\u001b[0;34m(\u001b[0m\u001b[0mshape\u001b[0m\u001b[0;34m)\u001b[0m\u001b[0;34m\u001b[0m\n",
      "\u001b[0;34m\u001b[0m        \u001b[0mnA\u001b[0m \u001b[0;34m=\u001b[0m \u001b[0;36m4\u001b[0m\u001b[0;34m\u001b[0m\n",
      "\u001b[0;34m\u001b[0m\u001b[0;34m\u001b[0m\n",
      "\u001b[0;34m\u001b[0m        \u001b[0mMAX_Y\u001b[0m \u001b[0;34m=\u001b[0m \u001b[0mshape\u001b[0m\u001b[0;34m[\u001b[0m\u001b[0;36m0\u001b[0m\u001b[0;34m]\u001b[0m\u001b[0;34m\u001b[0m\n",
      "\u001b[0;34m\u001b[0m        \u001b[0mMAX_X\u001b[0m \u001b[0;34m=\u001b[0m \u001b[0mshape\u001b[0m\u001b[0;34m[\u001b[0m\u001b[0;36m1\u001b[0m\u001b[0;34m]\u001b[0m\u001b[0;34m\u001b[0m\n",
      "\u001b[0;34m\u001b[0m\u001b[0;34m\u001b[0m\n",
      "\u001b[0;34m\u001b[0m        \u001b[0mP\u001b[0m \u001b[0;34m=\u001b[0m \u001b[0;34m{\u001b[0m\u001b[0;34m}\u001b[0m\u001b[0;34m\u001b[0m\n",
      "\u001b[0;34m\u001b[0m        \u001b[0mgrid\u001b[0m \u001b[0;34m=\u001b[0m \u001b[0mnp\u001b[0m\u001b[0;34m.\u001b[0m\u001b[0marange\u001b[0m\u001b[0;34m(\u001b[0m\u001b[0mnS\u001b[0m\u001b[0;34m)\u001b[0m\u001b[0;34m.\u001b[0m\u001b[0mreshape\u001b[0m\u001b[0;34m(\u001b[0m\u001b[0mshape\u001b[0m\u001b[0;34m)\u001b[0m\u001b[0;34m\u001b[0m\n",
      "\u001b[0;34m\u001b[0m        \u001b[0mit\u001b[0m \u001b[0;34m=\u001b[0m \u001b[0mnp\u001b[0m\u001b[0;34m.\u001b[0m\u001b[0mnditer\u001b[0m\u001b[0;34m(\u001b[0m\u001b[0mgrid\u001b[0m\u001b[0;34m,\u001b[0m \u001b[0mflags\u001b[0m\u001b[0;34m=\u001b[0m\u001b[0;34m[\u001b[0m\u001b[0;34m'multi_index'\u001b[0m\u001b[0;34m]\u001b[0m\u001b[0;34m)\u001b[0m\u001b[0;34m\u001b[0m\n",
      "\u001b[0;34m\u001b[0m\u001b[0;34m\u001b[0m\n",
      "\u001b[0;34m\u001b[0m        \u001b[0;32mwhile\u001b[0m \u001b[0;32mnot\u001b[0m \u001b[0mit\u001b[0m\u001b[0;34m.\u001b[0m\u001b[0mfinished\u001b[0m\u001b[0;34m:\u001b[0m\u001b[0;34m\u001b[0m\n",
      "\u001b[0;34m\u001b[0m            \u001b[0ms\u001b[0m \u001b[0;34m=\u001b[0m \u001b[0mit\u001b[0m\u001b[0;34m.\u001b[0m\u001b[0miterindex\u001b[0m\u001b[0;34m\u001b[0m\n",
      "\u001b[0;34m\u001b[0m            \u001b[0my\u001b[0m\u001b[0;34m,\u001b[0m \u001b[0mx\u001b[0m \u001b[0;34m=\u001b[0m \u001b[0mit\u001b[0m\u001b[0;34m.\u001b[0m\u001b[0mmulti_index\u001b[0m\u001b[0;34m\u001b[0m\n",
      "\u001b[0;34m\u001b[0m\u001b[0;34m\u001b[0m\n",
      "\u001b[0;34m\u001b[0m            \u001b[0mP\u001b[0m\u001b[0;34m[\u001b[0m\u001b[0ms\u001b[0m\u001b[0;34m]\u001b[0m \u001b[0;34m=\u001b[0m \u001b[0;34m{\u001b[0m\u001b[0ma\u001b[0m \u001b[0;34m:\u001b[0m \u001b[0;34m[\u001b[0m\u001b[0;34m]\u001b[0m \u001b[0;32mfor\u001b[0m \u001b[0ma\u001b[0m \u001b[0;32min\u001b[0m \u001b[0mrange\u001b[0m\u001b[0;34m(\u001b[0m\u001b[0mnA\u001b[0m\u001b[0;34m)\u001b[0m\u001b[0;34m}\u001b[0m\u001b[0;34m\u001b[0m\n",
      "\u001b[0;34m\u001b[0m\u001b[0;34m\u001b[0m\n",
      "\u001b[0;34m\u001b[0m            \u001b[0mis_done\u001b[0m \u001b[0;34m=\u001b[0m \u001b[0;32mlambda\u001b[0m \u001b[0ms\u001b[0m\u001b[0;34m:\u001b[0m \u001b[0ms\u001b[0m \u001b[0;34m==\u001b[0m \u001b[0;36m0\u001b[0m \u001b[0;32mor\u001b[0m \u001b[0ms\u001b[0m \u001b[0;34m==\u001b[0m \u001b[0;34m(\u001b[0m\u001b[0mnS\u001b[0m \u001b[0;34m-\u001b[0m \u001b[0;36m1\u001b[0m\u001b[0;34m)\u001b[0m\u001b[0;34m\u001b[0m\n",
      "\u001b[0;34m\u001b[0m            \u001b[0mreward\u001b[0m \u001b[0;34m=\u001b[0m \u001b[0;36m0.0\u001b[0m \u001b[0;32mif\u001b[0m \u001b[0mis_done\u001b[0m\u001b[0;34m(\u001b[0m\u001b[0ms\u001b[0m\u001b[0;34m)\u001b[0m \u001b[0;32melse\u001b[0m \u001b[0;34m-\u001b[0m\u001b[0;36m1.0\u001b[0m\u001b[0;34m\u001b[0m\n",
      "\u001b[0;34m\u001b[0m\u001b[0;34m\u001b[0m\n",
      "\u001b[0;34m\u001b[0m            \u001b[0;31m# We're stuck in a terminal state\u001b[0m\u001b[0;34m\u001b[0m\n",
      "\u001b[0;34m\u001b[0m            \u001b[0;32mif\u001b[0m \u001b[0mis_done\u001b[0m\u001b[0;34m(\u001b[0m\u001b[0ms\u001b[0m\u001b[0;34m)\u001b[0m\u001b[0;34m:\u001b[0m\u001b[0;34m\u001b[0m\n",
      "\u001b[0;34m\u001b[0m                \u001b[0mP\u001b[0m\u001b[0;34m[\u001b[0m\u001b[0ms\u001b[0m\u001b[0;34m]\u001b[0m\u001b[0;34m[\u001b[0m\u001b[0mUP\u001b[0m\u001b[0;34m]\u001b[0m \u001b[0;34m=\u001b[0m \u001b[0;34m[\u001b[0m\u001b[0;34m(\u001b[0m\u001b[0;36m1.0\u001b[0m\u001b[0;34m,\u001b[0m \u001b[0ms\u001b[0m\u001b[0;34m,\u001b[0m \u001b[0mreward\u001b[0m\u001b[0;34m,\u001b[0m \u001b[0;32mTrue\u001b[0m\u001b[0;34m)\u001b[0m\u001b[0;34m]\u001b[0m\u001b[0;34m\u001b[0m\n",
      "\u001b[0;34m\u001b[0m                \u001b[0mP\u001b[0m\u001b[0;34m[\u001b[0m\u001b[0ms\u001b[0m\u001b[0;34m]\u001b[0m\u001b[0;34m[\u001b[0m\u001b[0mRIGHT\u001b[0m\u001b[0;34m]\u001b[0m \u001b[0;34m=\u001b[0m \u001b[0;34m[\u001b[0m\u001b[0;34m(\u001b[0m\u001b[0;36m1.0\u001b[0m\u001b[0;34m,\u001b[0m \u001b[0ms\u001b[0m\u001b[0;34m,\u001b[0m \u001b[0mreward\u001b[0m\u001b[0;34m,\u001b[0m \u001b[0;32mTrue\u001b[0m\u001b[0;34m)\u001b[0m\u001b[0;34m]\u001b[0m\u001b[0;34m\u001b[0m\n",
      "\u001b[0;34m\u001b[0m                \u001b[0mP\u001b[0m\u001b[0;34m[\u001b[0m\u001b[0ms\u001b[0m\u001b[0;34m]\u001b[0m\u001b[0;34m[\u001b[0m\u001b[0mDOWN\u001b[0m\u001b[0;34m]\u001b[0m \u001b[0;34m=\u001b[0m \u001b[0;34m[\u001b[0m\u001b[0;34m(\u001b[0m\u001b[0;36m1.0\u001b[0m\u001b[0;34m,\u001b[0m \u001b[0ms\u001b[0m\u001b[0;34m,\u001b[0m \u001b[0mreward\u001b[0m\u001b[0;34m,\u001b[0m \u001b[0;32mTrue\u001b[0m\u001b[0;34m)\u001b[0m\u001b[0;34m]\u001b[0m\u001b[0;34m\u001b[0m\n",
      "\u001b[0;34m\u001b[0m                \u001b[0mP\u001b[0m\u001b[0;34m[\u001b[0m\u001b[0ms\u001b[0m\u001b[0;34m]\u001b[0m\u001b[0;34m[\u001b[0m\u001b[0mLEFT\u001b[0m\u001b[0;34m]\u001b[0m \u001b[0;34m=\u001b[0m \u001b[0;34m[\u001b[0m\u001b[0;34m(\u001b[0m\u001b[0;36m1.0\u001b[0m\u001b[0;34m,\u001b[0m \u001b[0ms\u001b[0m\u001b[0;34m,\u001b[0m \u001b[0mreward\u001b[0m\u001b[0;34m,\u001b[0m \u001b[0;32mTrue\u001b[0m\u001b[0;34m)\u001b[0m\u001b[0;34m]\u001b[0m\u001b[0;34m\u001b[0m\n",
      "\u001b[0;34m\u001b[0m            \u001b[0;31m# Not a terminal state\u001b[0m\u001b[0;34m\u001b[0m\n",
      "\u001b[0;34m\u001b[0m            \u001b[0;32melse\u001b[0m\u001b[0;34m:\u001b[0m\u001b[0;34m\u001b[0m\n",
      "\u001b[0;34m\u001b[0m                \u001b[0mns_up\u001b[0m \u001b[0;34m=\u001b[0m \u001b[0ms\u001b[0m \u001b[0;32mif\u001b[0m \u001b[0my\u001b[0m \u001b[0;34m==\u001b[0m \u001b[0;36m0\u001b[0m \u001b[0;32melse\u001b[0m \u001b[0ms\u001b[0m \u001b[0;34m-\u001b[0m \u001b[0mMAX_X\u001b[0m\u001b[0;34m\u001b[0m\n",
      "\u001b[0;34m\u001b[0m                \u001b[0mns_right\u001b[0m \u001b[0;34m=\u001b[0m \u001b[0ms\u001b[0m \u001b[0;32mif\u001b[0m \u001b[0mx\u001b[0m \u001b[0;34m==\u001b[0m \u001b[0;34m(\u001b[0m\u001b[0mMAX_X\u001b[0m \u001b[0;34m-\u001b[0m \u001b[0;36m1\u001b[0m\u001b[0;34m)\u001b[0m \u001b[0;32melse\u001b[0m \u001b[0ms\u001b[0m \u001b[0;34m+\u001b[0m \u001b[0;36m1\u001b[0m\u001b[0;34m\u001b[0m\n",
      "\u001b[0;34m\u001b[0m                \u001b[0mns_down\u001b[0m \u001b[0;34m=\u001b[0m \u001b[0ms\u001b[0m \u001b[0;32mif\u001b[0m \u001b[0my\u001b[0m \u001b[0;34m==\u001b[0m \u001b[0;34m(\u001b[0m\u001b[0mMAX_Y\u001b[0m \u001b[0;34m-\u001b[0m \u001b[0;36m1\u001b[0m\u001b[0;34m)\u001b[0m \u001b[0;32melse\u001b[0m \u001b[0ms\u001b[0m \u001b[0;34m+\u001b[0m \u001b[0mMAX_X\u001b[0m\u001b[0;34m\u001b[0m\n",
      "\u001b[0;34m\u001b[0m                \u001b[0mns_left\u001b[0m \u001b[0;34m=\u001b[0m \u001b[0ms\u001b[0m \u001b[0;32mif\u001b[0m \u001b[0mx\u001b[0m \u001b[0;34m==\u001b[0m \u001b[0;36m0\u001b[0m \u001b[0;32melse\u001b[0m \u001b[0ms\u001b[0m \u001b[0;34m-\u001b[0m \u001b[0;36m1\u001b[0m\u001b[0;34m\u001b[0m\n",
      "\u001b[0;34m\u001b[0m                \u001b[0mP\u001b[0m\u001b[0;34m[\u001b[0m\u001b[0ms\u001b[0m\u001b[0;34m]\u001b[0m\u001b[0;34m[\u001b[0m\u001b[0mUP\u001b[0m\u001b[0;34m]\u001b[0m \u001b[0;34m=\u001b[0m \u001b[0;34m[\u001b[0m\u001b[0;34m(\u001b[0m\u001b[0;36m1.0\u001b[0m\u001b[0;34m,\u001b[0m \u001b[0mns_up\u001b[0m\u001b[0;34m,\u001b[0m \u001b[0mreward\u001b[0m\u001b[0;34m,\u001b[0m \u001b[0mis_done\u001b[0m\u001b[0;34m(\u001b[0m\u001b[0mns_up\u001b[0m\u001b[0;34m)\u001b[0m\u001b[0;34m)\u001b[0m\u001b[0;34m]\u001b[0m\u001b[0;34m\u001b[0m\n",
      "\u001b[0;34m\u001b[0m                \u001b[0mP\u001b[0m\u001b[0;34m[\u001b[0m\u001b[0ms\u001b[0m\u001b[0;34m]\u001b[0m\u001b[0;34m[\u001b[0m\u001b[0mRIGHT\u001b[0m\u001b[0;34m]\u001b[0m \u001b[0;34m=\u001b[0m \u001b[0;34m[\u001b[0m\u001b[0;34m(\u001b[0m\u001b[0;36m1.0\u001b[0m\u001b[0;34m,\u001b[0m \u001b[0mns_right\u001b[0m\u001b[0;34m,\u001b[0m \u001b[0mreward\u001b[0m\u001b[0;34m,\u001b[0m \u001b[0mis_done\u001b[0m\u001b[0;34m(\u001b[0m\u001b[0mns_right\u001b[0m\u001b[0;34m)\u001b[0m\u001b[0;34m)\u001b[0m\u001b[0;34m]\u001b[0m\u001b[0;34m\u001b[0m\n",
      "\u001b[0;34m\u001b[0m                \u001b[0mP\u001b[0m\u001b[0;34m[\u001b[0m\u001b[0ms\u001b[0m\u001b[0;34m]\u001b[0m\u001b[0;34m[\u001b[0m\u001b[0mDOWN\u001b[0m\u001b[0;34m]\u001b[0m \u001b[0;34m=\u001b[0m \u001b[0;34m[\u001b[0m\u001b[0;34m(\u001b[0m\u001b[0;36m1.0\u001b[0m\u001b[0;34m,\u001b[0m \u001b[0mns_down\u001b[0m\u001b[0;34m,\u001b[0m \u001b[0mreward\u001b[0m\u001b[0;34m,\u001b[0m \u001b[0mis_done\u001b[0m\u001b[0;34m(\u001b[0m\u001b[0mns_down\u001b[0m\u001b[0;34m)\u001b[0m\u001b[0;34m)\u001b[0m\u001b[0;34m]\u001b[0m\u001b[0;34m\u001b[0m\n",
      "\u001b[0;34m\u001b[0m                \u001b[0mP\u001b[0m\u001b[0;34m[\u001b[0m\u001b[0ms\u001b[0m\u001b[0;34m]\u001b[0m\u001b[0;34m[\u001b[0m\u001b[0mLEFT\u001b[0m\u001b[0;34m]\u001b[0m \u001b[0;34m=\u001b[0m \u001b[0;34m[\u001b[0m\u001b[0;34m(\u001b[0m\u001b[0;36m1.0\u001b[0m\u001b[0;34m,\u001b[0m \u001b[0mns_left\u001b[0m\u001b[0;34m,\u001b[0m \u001b[0mreward\u001b[0m\u001b[0;34m,\u001b[0m \u001b[0mis_done\u001b[0m\u001b[0;34m(\u001b[0m\u001b[0mns_left\u001b[0m\u001b[0;34m)\u001b[0m\u001b[0;34m)\u001b[0m\u001b[0;34m]\u001b[0m\u001b[0;34m\u001b[0m\n",
      "\u001b[0;34m\u001b[0m\u001b[0;34m\u001b[0m\n",
      "\u001b[0;34m\u001b[0m            \u001b[0mit\u001b[0m\u001b[0;34m.\u001b[0m\u001b[0miternext\u001b[0m\u001b[0;34m(\u001b[0m\u001b[0;34m)\u001b[0m\u001b[0;34m\u001b[0m\n",
      "\u001b[0;34m\u001b[0m\u001b[0;34m\u001b[0m\n",
      "\u001b[0;34m\u001b[0m        \u001b[0;31m# Initial state distribution is uniform\u001b[0m\u001b[0;34m\u001b[0m\n",
      "\u001b[0;34m\u001b[0m        \u001b[0misd\u001b[0m \u001b[0;34m=\u001b[0m \u001b[0mnp\u001b[0m\u001b[0;34m.\u001b[0m\u001b[0mones\u001b[0m\u001b[0;34m(\u001b[0m\u001b[0mnS\u001b[0m\u001b[0;34m)\u001b[0m \u001b[0;34m/\u001b[0m \u001b[0mnS\u001b[0m\u001b[0;34m\u001b[0m\n",
      "\u001b[0;34m\u001b[0m\u001b[0;34m\u001b[0m\n",
      "\u001b[0;34m\u001b[0m        \u001b[0;31m# We expose the model of the environment for educational purposes\u001b[0m\u001b[0;34m\u001b[0m\n",
      "\u001b[0;34m\u001b[0m        \u001b[0;31m# This should not be used in any model-free learning algorithm\u001b[0m\u001b[0;34m\u001b[0m\n",
      "\u001b[0;34m\u001b[0m        \u001b[0mself\u001b[0m\u001b[0;34m.\u001b[0m\u001b[0mP\u001b[0m \u001b[0;34m=\u001b[0m \u001b[0mP\u001b[0m\u001b[0;34m\u001b[0m\n",
      "\u001b[0;34m\u001b[0m\u001b[0;34m\u001b[0m\n",
      "\u001b[0;34m\u001b[0m        \u001b[0msuper\u001b[0m\u001b[0;34m(\u001b[0m\u001b[0mGridworldEnv\u001b[0m\u001b[0;34m,\u001b[0m \u001b[0mself\u001b[0m\u001b[0;34m)\u001b[0m\u001b[0;34m.\u001b[0m\u001b[0m__init__\u001b[0m\u001b[0;34m(\u001b[0m\u001b[0mnS\u001b[0m\u001b[0;34m,\u001b[0m \u001b[0mnA\u001b[0m\u001b[0;34m,\u001b[0m \u001b[0mP\u001b[0m\u001b[0;34m,\u001b[0m \u001b[0misd\u001b[0m\u001b[0;34m)\u001b[0m\u001b[0;34m\u001b[0m\n",
      "\u001b[0;34m\u001b[0m\u001b[0;34m\u001b[0m\n",
      "\u001b[0;34m\u001b[0m    \u001b[0;32mdef\u001b[0m \u001b[0m_render\u001b[0m\u001b[0;34m(\u001b[0m\u001b[0mself\u001b[0m\u001b[0;34m,\u001b[0m \u001b[0mmode\u001b[0m\u001b[0;34m=\u001b[0m\u001b[0;34m'human'\u001b[0m\u001b[0;34m,\u001b[0m \u001b[0mclose\u001b[0m\u001b[0;34m=\u001b[0m\u001b[0;32mFalse\u001b[0m\u001b[0;34m)\u001b[0m\u001b[0;34m:\u001b[0m\u001b[0;34m\u001b[0m\n",
      "\u001b[0;34m\u001b[0m        \u001b[0;32mif\u001b[0m \u001b[0mclose\u001b[0m\u001b[0;34m:\u001b[0m\u001b[0;34m\u001b[0m\n",
      "\u001b[0;34m\u001b[0m            \u001b[0;32mreturn\u001b[0m\u001b[0;34m\u001b[0m\n",
      "\u001b[0;34m\u001b[0m\u001b[0;34m\u001b[0m\n",
      "\u001b[0;34m\u001b[0m        \u001b[0moutfile\u001b[0m \u001b[0;34m=\u001b[0m \u001b[0mStringIO\u001b[0m\u001b[0;34m(\u001b[0m\u001b[0;34m)\u001b[0m \u001b[0;32mif\u001b[0m \u001b[0mmode\u001b[0m \u001b[0;34m==\u001b[0m \u001b[0;34m'ansi'\u001b[0m \u001b[0;32melse\u001b[0m \u001b[0msys\u001b[0m\u001b[0;34m.\u001b[0m\u001b[0mstdout\u001b[0m\u001b[0;34m\u001b[0m\n",
      "\u001b[0;34m\u001b[0m\u001b[0;34m\u001b[0m\n",
      "\u001b[0;34m\u001b[0m        \u001b[0mgrid\u001b[0m \u001b[0;34m=\u001b[0m \u001b[0mnp\u001b[0m\u001b[0;34m.\u001b[0m\u001b[0marange\u001b[0m\u001b[0;34m(\u001b[0m\u001b[0mself\u001b[0m\u001b[0;34m.\u001b[0m\u001b[0mnS\u001b[0m\u001b[0;34m)\u001b[0m\u001b[0;34m.\u001b[0m\u001b[0mreshape\u001b[0m\u001b[0;34m(\u001b[0m\u001b[0mself\u001b[0m\u001b[0;34m.\u001b[0m\u001b[0mshape\u001b[0m\u001b[0;34m)\u001b[0m\u001b[0;34m\u001b[0m\n",
      "\u001b[0;34m\u001b[0m        \u001b[0mit\u001b[0m \u001b[0;34m=\u001b[0m \u001b[0mnp\u001b[0m\u001b[0;34m.\u001b[0m\u001b[0mnditer\u001b[0m\u001b[0;34m(\u001b[0m\u001b[0mgrid\u001b[0m\u001b[0;34m,\u001b[0m \u001b[0mflags\u001b[0m\u001b[0;34m=\u001b[0m\u001b[0;34m[\u001b[0m\u001b[0;34m'multi_index'\u001b[0m\u001b[0;34m]\u001b[0m\u001b[0;34m)\u001b[0m\u001b[0;34m\u001b[0m\n",
      "\u001b[0;34m\u001b[0m        \u001b[0;32mwhile\u001b[0m \u001b[0;32mnot\u001b[0m \u001b[0mit\u001b[0m\u001b[0;34m.\u001b[0m\u001b[0mfinished\u001b[0m\u001b[0;34m:\u001b[0m\u001b[0;34m\u001b[0m\n",
      "\u001b[0;34m\u001b[0m            \u001b[0ms\u001b[0m \u001b[0;34m=\u001b[0m \u001b[0mit\u001b[0m\u001b[0;34m.\u001b[0m\u001b[0miterindex\u001b[0m\u001b[0;34m\u001b[0m\n",
      "\u001b[0;34m\u001b[0m            \u001b[0my\u001b[0m\u001b[0;34m,\u001b[0m \u001b[0mx\u001b[0m \u001b[0;34m=\u001b[0m \u001b[0mit\u001b[0m\u001b[0;34m.\u001b[0m\u001b[0mmulti_index\u001b[0m\u001b[0;34m\u001b[0m\n",
      "\u001b[0;34m\u001b[0m\u001b[0;34m\u001b[0m\n",
      "\u001b[0;34m\u001b[0m            \u001b[0;32mif\u001b[0m \u001b[0mself\u001b[0m\u001b[0;34m.\u001b[0m\u001b[0ms\u001b[0m \u001b[0;34m==\u001b[0m \u001b[0ms\u001b[0m\u001b[0;34m:\u001b[0m\u001b[0;34m\u001b[0m\n",
      "\u001b[0;34m\u001b[0m                \u001b[0moutput\u001b[0m \u001b[0;34m=\u001b[0m \u001b[0;34m\" x \"\u001b[0m\u001b[0;34m\u001b[0m\n",
      "\u001b[0;34m\u001b[0m            \u001b[0;32melif\u001b[0m \u001b[0ms\u001b[0m \u001b[0;34m==\u001b[0m \u001b[0;36m0\u001b[0m \u001b[0;32mor\u001b[0m \u001b[0ms\u001b[0m \u001b[0;34m==\u001b[0m \u001b[0mself\u001b[0m\u001b[0;34m.\u001b[0m\u001b[0mnS\u001b[0m \u001b[0;34m-\u001b[0m \u001b[0;36m1\u001b[0m\u001b[0;34m:\u001b[0m\u001b[0;34m\u001b[0m\n",
      "\u001b[0;34m\u001b[0m                \u001b[0moutput\u001b[0m \u001b[0;34m=\u001b[0m \u001b[0;34m\" T \"\u001b[0m\u001b[0;34m\u001b[0m\n",
      "\u001b[0;34m\u001b[0m            \u001b[0;32melse\u001b[0m\u001b[0;34m:\u001b[0m\u001b[0;34m\u001b[0m\n",
      "\u001b[0;34m\u001b[0m                \u001b[0moutput\u001b[0m \u001b[0;34m=\u001b[0m \u001b[0;34m\" o \"\u001b[0m\u001b[0;34m\u001b[0m\n",
      "\u001b[0;34m\u001b[0m\u001b[0;34m\u001b[0m\n",
      "\u001b[0;34m\u001b[0m            \u001b[0;32mif\u001b[0m \u001b[0mx\u001b[0m \u001b[0;34m==\u001b[0m \u001b[0;36m0\u001b[0m\u001b[0;34m:\u001b[0m\u001b[0;34m\u001b[0m\n",
      "\u001b[0;34m\u001b[0m                \u001b[0moutput\u001b[0m \u001b[0;34m=\u001b[0m \u001b[0moutput\u001b[0m\u001b[0;34m.\u001b[0m\u001b[0mlstrip\u001b[0m\u001b[0;34m(\u001b[0m\u001b[0;34m)\u001b[0m \u001b[0;34m\u001b[0m\n",
      "\u001b[0;34m\u001b[0m            \u001b[0;32mif\u001b[0m \u001b[0mx\u001b[0m \u001b[0;34m==\u001b[0m \u001b[0mself\u001b[0m\u001b[0;34m.\u001b[0m\u001b[0mshape\u001b[0m\u001b[0;34m[\u001b[0m\u001b[0;36m1\u001b[0m\u001b[0;34m]\u001b[0m \u001b[0;34m-\u001b[0m \u001b[0;36m1\u001b[0m\u001b[0;34m:\u001b[0m\u001b[0;34m\u001b[0m\n",
      "\u001b[0;34m\u001b[0m                \u001b[0moutput\u001b[0m \u001b[0;34m=\u001b[0m \u001b[0moutput\u001b[0m\u001b[0;34m.\u001b[0m\u001b[0mrstrip\u001b[0m\u001b[0;34m(\u001b[0m\u001b[0;34m)\u001b[0m\u001b[0;34m\u001b[0m\n",
      "\u001b[0;34m\u001b[0m\u001b[0;34m\u001b[0m\n",
      "\u001b[0;34m\u001b[0m            \u001b[0moutfile\u001b[0m\u001b[0;34m.\u001b[0m\u001b[0mwrite\u001b[0m\u001b[0;34m(\u001b[0m\u001b[0moutput\u001b[0m\u001b[0;34m)\u001b[0m\u001b[0;34m\u001b[0m\n",
      "\u001b[0;34m\u001b[0m\u001b[0;34m\u001b[0m\n",
      "\u001b[0;34m\u001b[0m            \u001b[0;32mif\u001b[0m \u001b[0mx\u001b[0m \u001b[0;34m==\u001b[0m \u001b[0mself\u001b[0m\u001b[0;34m.\u001b[0m\u001b[0mshape\u001b[0m\u001b[0;34m[\u001b[0m\u001b[0;36m1\u001b[0m\u001b[0;34m]\u001b[0m \u001b[0;34m-\u001b[0m \u001b[0;36m1\u001b[0m\u001b[0;34m:\u001b[0m\u001b[0;34m\u001b[0m\n",
      "\u001b[0;34m\u001b[0m                \u001b[0moutfile\u001b[0m\u001b[0;34m.\u001b[0m\u001b[0mwrite\u001b[0m\u001b[0;34m(\u001b[0m\u001b[0;34m\"\\n\"\u001b[0m\u001b[0;34m)\u001b[0m\u001b[0;34m\u001b[0m\n",
      "\u001b[0;34m\u001b[0m\u001b[0;34m\u001b[0m\n",
      "\u001b[0;34m\u001b[0m            \u001b[0mit\u001b[0m\u001b[0;34m.\u001b[0m\u001b[0miternext\u001b[0m\u001b[0;34m(\u001b[0m\u001b[0;34m)\u001b[0m\u001b[0;34m\u001b[0m\u001b[0;34m\u001b[0m\u001b[0m\n"
     ]
    }
   ],
   "source": [
    "# To have a quick look into the code\n",
    "??env"
   ]
  },
  {
   "cell_type": "markdown",
   "metadata": {},
   "source": [
    "Now we want to evaluate a policy by using Dynamic Programming. For more information, see the [Intro to RL](https://drive.google.com/open?id=1opPSz5AZ_kVa1uWOdOiveNiBFiEOHjkG) book, section 4.1. This algorithm requires knowledge of the problem dynamics in the form of the transition probabilities $p(s',r|s,a)$. In general these are not available, but for our gridworld we know the dynamics and these can be accessed as `env.P`. Note that we do not need to use a discount_factor for episodic tasks but make sure your implementation can handle this correctly!"
   ]
  },
  {
   "cell_type": "code",
   "execution_count": 26,
   "metadata": {},
   "outputs": [
    {
     "data": {
      "text/plain": [
       "{0: {0: [(1.0, 0, 0.0, True)],\n",
       "  1: [(1.0, 0, 0.0, True)],\n",
       "  2: [(1.0, 0, 0.0, True)],\n",
       "  3: [(1.0, 0, 0.0, True)]},\n",
       " 1: {0: [(1.0, 1, -1.0, False)],\n",
       "  1: [(1.0, 2, -1.0, False)],\n",
       "  2: [(1.0, 5, -1.0, False)],\n",
       "  3: [(1.0, 0, -1.0, True)]},\n",
       " 2: {0: [(1.0, 2, -1.0, False)],\n",
       "  1: [(1.0, 3, -1.0, False)],\n",
       "  2: [(1.0, 6, -1.0, False)],\n",
       "  3: [(1.0, 1, -1.0, False)]},\n",
       " 3: {0: [(1.0, 3, -1.0, False)],\n",
       "  1: [(1.0, 3, -1.0, False)],\n",
       "  2: [(1.0, 7, -1.0, False)],\n",
       "  3: [(1.0, 2, -1.0, False)]},\n",
       " 4: {0: [(1.0, 0, -1.0, True)],\n",
       "  1: [(1.0, 5, -1.0, False)],\n",
       "  2: [(1.0, 8, -1.0, False)],\n",
       "  3: [(1.0, 4, -1.0, False)]},\n",
       " 5: {0: [(1.0, 1, -1.0, False)],\n",
       "  1: [(1.0, 6, -1.0, False)],\n",
       "  2: [(1.0, 9, -1.0, False)],\n",
       "  3: [(1.0, 4, -1.0, False)]},\n",
       " 6: {0: [(1.0, 2, -1.0, False)],\n",
       "  1: [(1.0, 7, -1.0, False)],\n",
       "  2: [(1.0, 10, -1.0, False)],\n",
       "  3: [(1.0, 5, -1.0, False)]},\n",
       " 7: {0: [(1.0, 3, -1.0, False)],\n",
       "  1: [(1.0, 7, -1.0, False)],\n",
       "  2: [(1.0, 11, -1.0, False)],\n",
       "  3: [(1.0, 6, -1.0, False)]},\n",
       " 8: {0: [(1.0, 4, -1.0, False)],\n",
       "  1: [(1.0, 9, -1.0, False)],\n",
       "  2: [(1.0, 12, -1.0, False)],\n",
       "  3: [(1.0, 8, -1.0, False)]},\n",
       " 9: {0: [(1.0, 5, -1.0, False)],\n",
       "  1: [(1.0, 10, -1.0, False)],\n",
       "  2: [(1.0, 13, -1.0, False)],\n",
       "  3: [(1.0, 8, -1.0, False)]},\n",
       " 10: {0: [(1.0, 6, -1.0, False)],\n",
       "  1: [(1.0, 11, -1.0, False)],\n",
       "  2: [(1.0, 14, -1.0, False)],\n",
       "  3: [(1.0, 9, -1.0, False)]},\n",
       " 11: {0: [(1.0, 7, -1.0, False)],\n",
       "  1: [(1.0, 11, -1.0, False)],\n",
       "  2: [(1.0, 15, -1.0, True)],\n",
       "  3: [(1.0, 10, -1.0, False)]},\n",
       " 12: {0: [(1.0, 8, -1.0, False)],\n",
       "  1: [(1.0, 13, -1.0, False)],\n",
       "  2: [(1.0, 12, -1.0, False)],\n",
       "  3: [(1.0, 12, -1.0, False)]},\n",
       " 13: {0: [(1.0, 9, -1.0, False)],\n",
       "  1: [(1.0, 14, -1.0, False)],\n",
       "  2: [(1.0, 13, -1.0, False)],\n",
       "  3: [(1.0, 12, -1.0, False)]},\n",
       " 14: {0: [(1.0, 10, -1.0, False)],\n",
       "  1: [(1.0, 15, -1.0, True)],\n",
       "  2: [(1.0, 14, -1.0, False)],\n",
       "  3: [(1.0, 13, -1.0, False)]},\n",
       " 15: {0: [(1.0, 15, 0.0, True)],\n",
       "  1: [(1.0, 15, 0.0, True)],\n",
       "  2: [(1.0, 15, 0.0, True)],\n",
       "  3: [(1.0, 15, 0.0, True)]}}"
      ]
     },
     "execution_count": 26,
     "metadata": {},
     "output_type": "execute_result"
    }
   ],
   "source": [
    "# Take a moment to figure out what P represents. \n",
    "# Note that this is a deterministic environment. \n",
    "# What would a stochastic environment look like?\n",
    "env.P"
   ]
  },
  {
   "cell_type": "code",
   "execution_count": 29,
   "execution_count": 7,
   "metadata": {},
   "outputs": [
    {
     "name": "stdout",
     "output_type": "stream",
     "text": [
      "Appending to dp_autograde.py\n"
     ]
    }
   ],
   "source": [
    "%%execwritefile -a dp_autograde.py\n",
    "\n",
    "def policy_eval_v(policy, env, discount_factor=1.0, theta=0.00001):\n",
    "    \"\"\"\n",
    "    Evaluate a policy given an environment and a full description of the environment's dynamics.\n",
    "    \n",
    "    Args:\n",
    "        policy: [S, A] shaped matrix representing the policy.\n",
    "        env: OpenAI env. env.P represents the transition probabilities of the environment.\n",
    "            env.P[s][a] is a list of transition tuples (prob, next_state, reward, done).\n",
    "            env.nS is a number of states in the environment. \n",
    "            env.nA is a number of actions in the environment.\n",
    "        theta: We stop evaluation once our value function change is less than theta for all states.\n",
    "        discount_factor: Gamma discount factor.\n",
    "    \n",
    "    Returns:\n",
    "        Vector of length env.nS representing the value function.\n",
    "    \"\"\"\n",
    "    # Start with an all 0 value function\n",
    "    V = np.zeros(env.nS)\n",
    "\n",
    "    # Repeat until convergence\n",
    "    while True:\n",
    "        delta = 0  # Initialize the change in value function\n",
    "\n",
    "        # Loop over all states\n",
    "        for s in range(env.nS):\n",
    "            v_s = 0  # Initialize the new value of state s\n",
    "\n",
    "            # Calculate the expected value of state s under the current policy\n",
    "            for a, phi_prob in enumerate(policy[s]):\n",
    "                for prob, next_state, reward, done in env.P[s][a]:\n",
    "                    v_s += phi_prob * prob * (reward + discount_factor * V[next_state])\n",
    "\n",
    "            # Calculate the change in the value function for this state\n",
    "            delta = max(delta, abs(V[s] - v_s))\n",
    "\n",
    "            # Update the value function for state s\n",
    "            V[s] = v_s\n",
    "\n",
    "        # If the change in value function is smaller than theta, stop\n",
    "        if delta < theta:\n",
    "            break\n",
    "\n",
    "    return np.array(V)"
   ]
  },
  {
   "cell_type": "code",
   "execution_count": 30,
   "execution_count": 8,
   "metadata": {},
   "outputs": [
    {
     "data": {
      "text/plain": [
       "array([  0.        , -13.99993529, -19.99990698, -21.99989761,\n",
       "       -13.99993529, -17.9999206 , -19.99991379, -19.99991477,\n",
       "       -19.99990698, -19.99991379, -17.99992725, -13.99994569,\n",
       "       -21.99989761, -19.99991477, -13.99994569,   0.        ])"
      ]
     },
     "execution_count": 30,
     "execution_count": 8,
     "metadata": {},
     "output_type": "execute_result"
    }
   ],
   "source": [
    "# Let's run your code, does it make sense?\n",
    "random_policy = np.ones([env.nS, env.nA]) / env.nA\n",
    "V = policy_eval_v(random_policy, env)\n",
    "assert V.shape == (env.nS)\n",
    "V"
   ]
  },
  {
   "cell_type": "code",
   "execution_count": 31,
   "execution_count": 9,
   "metadata": {},
   "outputs": [
    {
     "data": {
      "image/png": "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",
      "image/png": "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",
      "text/plain": [
       "<Figure size 640x480 with 2 Axes>"
      ]
     },
     "metadata": {},
     "output_type": "display_data"
    }
   ],
   "source": [
    "def plot_gridworld_value(V):\n",
    "    plt.figure()\n",
    "    c = plt.pcolormesh(V, cmap='gray')\n",
    "    plt.colorbar(c)\n",
    "    plt.gca().invert_yaxis()  # In the array, first row = 0 is on top\n",
    "\n",
    "# Making a plot always helps\n",
    "plot_gridworld_value(V.reshape(env.shape))"
   ]
  },
  {
   "cell_type": "markdown",
   "metadata": {},
   "source": [
    "---\n",
    "## 2. Policy Iteration (2 points)\n",
    "Using the policy evaluation algorithm we can implement policy iteration to find a good policy for this problem. Note that we do not need to use a discount_factor for episodic tasks but make sure your implementation can handle this correctly!"
   ]
  },
  {
   "cell_type": "code",
   "execution_count": 43,
   "execution_count": 10,
   "metadata": {},
   "outputs": [
    {
     "name": "stdout",
     "output_type": "stream",
     "text": [
      "Appending to dp_autograde.py\n"
     ]
    }
   ],
   "source": [
    "%%execwritefile -a dp_autograde.py\n",
    "\n",
    "def policy_iter_v(env, policy_eval_v=policy_eval_v, discount_factor=1.0):\n",
    "    \"\"\"\n",
    "    Policy Iteration Algorithm. Iteratively evaluates and improves a policy\n",
    "    until an optimal policy is found.\n",
    "    \n",
    "    Args:\n",
    "        env: The OpenAI envrionment.\n",
    "        policy_eval_v: Policy Evaluation function that takes 3 arguments:\n",
    "            policy, env, discount_factor.\n",
    "        discount_factor: gamma discount factor.\n",
    "        \n",
    "    Returns:\n",
    "        A tuple (policy, V). \n",
    "        policy is the optimal policy, a matrix of shape [S, A] where each state s\n",
    "        contains a valid probability distribution over actions.\n",
    "        V is the value function for the optimal policy.\n",
    "        \n",
    "    \"\"\"\n",
    "    # Start with a random policy\n",
    "    policy = np.ones([env.nS, env.nA]) / env.nA\n",
    "    \n",
    "    # # YOUR CODE HERE\n",
    "    while True:\n",
    "        # Evaluate the current policy\n",
    "        V = policy_eval_v(policy, env, discount_factor)\n",
    "        \n",
    "        # Policy improvement\n",
    "        policy_stable = True\n",
    "        \n",
    "        for s in range(env.nS):\n",
    "            old_action = np.argmax(policy[s])\n",
    "            \n",
    "            # Compute action values to determine the best action\n",
    "            action_values = np.zeros(env.nA)\n",
    "            for a in range(env.nA):\n",
    "                for prob, next_state, reward, _ in env.P[s][a]:\n",
    "                    action_values[a] += prob * (reward + discount_factor * V[next_state])\n",
    "            \n",
    "            # Select the best action\n",
    "            best_action = np.argmax(action_values)\n",
    "            policy[s] = np.eye(env.nA)[best_a]\n",
    "            \n",
    "            # Check if policy has changed\n",
    "            if old_action != best_a:\n",
    "                policy_stable = False\n",
    "                \n",
    "        # If the policy is stable (no changes), we're done\n",
    "        if policy_stable:\n",
    "            break\n",
    "        \n",
    "    # END YOUR CODE\n",
    "    return policy, V"
   ]
  },
  {
   "cell_type": "code",
   "execution_count": 44,
   "metadata": {},
   "outputs": [
    {
     "name": "stdout",
     "output_type": "stream",
     "text": [
      "Policy Probability Distribution:\n",
      "[[1. 0. 0. 0.]\n",
      " [0. 0. 0. 1.]\n",
      " [0. 0. 0. 1.]\n",
      " [0. 0. 1. 0.]\n",
      " [1. 0. 0. 0.]\n",
      " [1. 0. 0. 0.]\n",
      " [1. 0. 0. 0.]\n",
      " [0. 0. 1. 0.]\n",
      " [1. 0. 0. 0.]\n",
      " [1. 0. 0. 0.]\n",
      " [0. 1. 0. 0.]\n",
      " [0. 0. 1. 0.]\n",
      " [1. 0. 0. 0.]\n",
      " [0. 1. 0. 0.]\n",
      " [0. 1. 0. 0.]\n",
      " [1. 0. 0. 0.]]\n",
      "\n",
      "Reshaped Grid Policy (0=up, 1=right, 2=down, 3=left):\n",
      "[[0 3 3 2]\n",
      " [0 0 0 2]\n",
      " [0 0 1 2]\n",
      " [0 1 1 0]]\n",
      "^<<v\n",
      "^^^v\n",
      "^^>v\n",
      "^>>^\n",
      "\n",
      "Value Function:\n",
      "[ 0. -1. -2. -3. -1. -2. -3. -2. -2. -3. -2. -1. -3. -2. -1.  0.]\n",
      "\n",
      "Reshaped Grid Value Function:\n",
      "[[ 0. -1. -2. -3.]\n",
      " [-1. -2. -3. -2.]\n",
      " [-2. -3. -2. -1.]\n",
      " [-3. -2. -1.  0.]]\n",
      "\n"
   "execution_count": 21,
   "metadata": {},
   "outputs": [
    {
     "ename": "NotImplementedError",
     "evalue": "",
     "output_type": "error",
     "traceback": [
      "\u001b[0;31m---------------------------------------------------------------------------\u001b[0m",
      "\u001b[0;31mNotImplementedError\u001b[0m                       Traceback (most recent call last)",
      "Cell \u001b[0;32mIn[21], line 2\u001b[0m\n\u001b[1;32m      1\u001b[0m \u001b[39m# Let's see what it does\u001b[39;00m\n\u001b[0;32m----> 2\u001b[0m policy, v \u001b[39m=\u001b[39m policy_iter_v(env, policy_eval_v)\n\u001b[1;32m      3\u001b[0m \u001b[39mprint\u001b[39m(\u001b[39m\"\u001b[39m\u001b[39mPolicy Probability Distribution:\u001b[39m\u001b[39m\"\u001b[39m)\n\u001b[1;32m      4\u001b[0m \u001b[39mprint\u001b[39m(policy)\n",
      "Cell \u001b[0;32mIn[10], line 22\u001b[0m, in \u001b[0;36mpolicy_iter_v\u001b[0;34m(env, policy_eval_v, discount_factor)\u001b[0m\n\u001b[1;32m     20\u001b[0m policy \u001b[39m=\u001b[39m np\u001b[39m.\u001b[39mones([env\u001b[39m.\u001b[39mnS, env\u001b[39m.\u001b[39mnA]) \u001b[39m/\u001b[39m env\u001b[39m.\u001b[39mnA\n\u001b[1;32m     21\u001b[0m \u001b[39m# YOUR CODE HERE\u001b[39;00m\n\u001b[0;32m---> 22\u001b[0m \u001b[39mraise\u001b[39;00m \u001b[39mNotImplementedError\u001b[39;00m\n\u001b[1;32m     23\u001b[0m \u001b[39mreturn\u001b[39;00m policy, V\n",
      "\u001b[0;31mNotImplementedError\u001b[0m: "
     ]
    },
    {
     "data": {
      "image/png": "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",
      "text/plain": [
       "<Figure size 640x480 with 2 Axes>"
      ]
     },
     "metadata": {},
     "output_type": "display_data"
    }
   ],
   "source": [
    "# Let's see what it does\n",
    "policy, v = policy_iter_v(env, policy_eval_v)\n",
    "print(\"Policy Probability Distribution:\")\n",
    "print(policy)\n",
    "print(\"\")\n",
    "\n",
    "def print_grid_policy(policy, symbols=[\"^\", \">\", \"v\", \"<\"]):\n",
    "    symbols = np.array(symbols)\n",
    "    for row in policy:\n",
    "        print(\"\".join(symbols[row]))\n",
    "\n",
    "print(\"Reshaped Grid Policy (0=up, 1=right, 2=down, 3=left):\")\n",
    "print(np.reshape(np.argmax(policy, axis=1), env.shape))\n",
    "print_grid_policy(np.reshape(np.argmax(policy, axis=1), env.shape))\n",
    "print(\"\")\n",
    "\n",
    "print(\"Value Function:\")\n",
    "print(v)\n",
    "print(\"\")\n",
    "\n",
    "print(\"Reshaped Grid Value Function:\")\n",
    "print(v.reshape(env.shape))\n",
    "print(\"\")\n",
    "\n",
    "plot_gridworld_value(v.reshape(env.shape))"
   ]
  },
  {
   "cell_type": "markdown",
   "metadata": {},
   "source": [
    "---\n",
    "## 3. Q-value Iteration (3 points)\n",
    "In this exercise you will implement the value iteration algorithm. However, because this algorithm is quite similar to the ones you implemented previously, we will spice things up a bit and use Q-values instead. Thus instead of using Bellman optimality equations for V you will use Bellman equations for Q. "
   ]
  },
  {
   "cell_type": "code",
   "execution_count": 40,
   "metadata": {},
   "outputs": [
    {
     "name": "stdout",
     "output_type": "stream",
     "text": [
      "Appending to dp_autograde.py\n"
     ]
    }
   ],
   "source": [
    "import numpy as np\n",
    "\n",
    "def value_iter_q(env, theta=0.0001, discount_factor=1.0):\n",
    "    \"\"\"\n",
    "    Q-value Iteration Algorithm.\n",
    "    \n",
    "    Args:\n",
    "        env: OpenAI env. env.P represents the transition probabilities of the environment.\n",
    "            env.P[s][a] is a list of transition tuples (prob, next_state, reward, done).\n",
    "            env.nS is a number of states in the environment. \n",
    "            env.nA is a number of actions in the environment.\n",
    "        theta: We stop evaluation once our value function change is less than theta for all state-action pairs.\n",
    "        discount_factor: Gamma discount factor.\n",
    "        \n",
    "    Returns:\n",
    "        A tuple (policy, Q) of the optimal policy and the optimal Q-value function.        \n",
    "    \"\"\"\n",
    "    # Initialize Q-values to zeros\n",
    "    Q = np.zeros((env.nS, env.nA))\n",
    "    \n",
    "    # Repeat until convergence\n",
    "    while True:\n",
    "        \n",
    "        # Initialize the change in Q-values to zero\n",
    "        delta = 0\n",
    "        \n",
    "        # Loop over all states and actions\n",
    "        for s in range(env.nS):\n",
    "            for a in range(env.nA):\n",
    "                \n",
    "                # Calculate the new Q-value for this state-action pair\n",
    "                new_q_value = 0\n",
    "                for prob, next_state, reward, done in env.P[s][a]:\n",
    "                    new_q_value += prob * (reward + discount_factor * np.max(Q[next_state]))\n",
    "                \n",
    "                # Update the change in Q-values\n",
    "                delta = max(delta, abs(new_q_value - Q[s][a]))\n",
    "                \n",
    "                # Update the Q-value for this state-action pair\n",
    "                Q[s][a] = new_q_value\n",
    "        \n",
    "        # Check if the change in Q-values is below the threshold\n",
    "        if delta < theta:\n",
    "            break\n",
    "\n",
    "    # Extract the optimal policy\n",
    "    policy = np.zeros((env.nS, env.nA))\n",
    "    \n",
    "    # Loop over all states and actions and find the optimal action for each state\n",
    "    for s in range(env.nS):\n",
    "        best_action = np.argmax(Q[s])\n",
    "        policy[s][best_action] = 1.0\n",
    "\n",
    "    return policy, Q\n"
   ]
  },
  {
   "cell_type": "code",
   "execution_count": 43,
   "metadata": {},
   "outputs": [
    {
     "name": "stdout",
     "output_type": "stream",
     "text": [
      "Policy Probability Distribution:\n",
      "[[1. 0. 0. 0.]\n",
      " [0. 0. 0. 1.]\n",
      " [0. 0. 0. 1.]\n",
      " [0. 0. 1. 0.]\n",
      " [1. 0. 0. 0.]\n",
      " [1. 0. 0. 0.]\n",
      " [1. 0. 0. 0.]\n",
      " [0. 0. 1. 0.]\n",
      " [1. 0. 0. 0.]\n",
      " [1. 0. 0. 0.]\n",
      " [0. 1. 0. 0.]\n",
      " [0. 0. 1. 0.]\n",
      " [1. 0. 0. 0.]\n",
      " [0. 1. 0. 0.]\n",
      " [0. 1. 0. 0.]\n",
      " [1. 0. 0. 0.]]\n",
      "\n",
      "Reshaped Grid Policy (0=up, 1=right, 2=down, 3=left):\n",
      "[[0 3 3 2]\n",
      " [0 0 0 2]\n",
      " [0 0 1 2]\n",
      " [0 1 1 0]]\n",
      "^<<v\n",
      "^^^v\n",
      "^^>v\n",
      "^>>^\n",
      "\n",
      "Q Function:\n",
      "[[ 0.  0.  0.  0.]\n",
      " [-2. -3. -3. -1.]\n",
      " [-3. -4. -4. -2.]\n",
      " [-4. -4. -3. -3.]\n",
      " [-1. -3. -3. -2.]\n",
      " [-2. -4. -4. -2.]\n",
      " [-3. -3. -3. -3.]\n",
      " [-4. -3. -2. -4.]\n",
      " [-2. -4. -4. -3.]\n",
      " [-3. -3. -3. -3.]\n",
      " [-4. -2. -2. -4.]\n",
      " [-3. -2. -1. -3.]\n",
      " [-3. -3. -4. -4.]\n",
      " [-4. -2. -3. -4.]\n",
      " [-3. -1. -2. -3.]\n",
      " [ 0.  0.  0.  0.]]\n",
      "\n"
     ]
    }
   ],
   "source": [
    "# Let's see what it does\n",
    "policy, Q = value_iter_q(env)\n",
    "print(\"Policy Probability Distribution:\")\n",
    "print(policy)\n",
    "print(\"\")\n",
    "\n",
    "print(\"Reshaped Grid Policy (0=up, 1=right, 2=down, 3=left):\")\n",
    "print(np.reshape(np.argmax(policy, axis=1), env.shape))\n",
    "print_grid_policy(np.reshape(np.argmax(policy, axis=1), env.shape))\n",
    "print(\"\")\n",
    "\n",
    "print(\"Q Function:\")\n",
    "print(Q)\n",
    "print(\"\")"
   ]
  },
  {
   "cell_type": "code",
   "execution_count": null,
   "metadata": {},
   "outputs": [
    {
     "ename": "",
     "evalue": "",
     "output_type": "error",
     "traceback": [
      "\u001b[1;31mThe kernel failed to start as the Python Environment 'venv' is no longer available. Consider selecting another kernel or refreshing the list of Python Environments."
     ]
    }
   ],
   "source": [
    "# As you can see, the visualization of the Q function is quite clumsy and is not that easy to check \n",
    "# that all values make sense. However, you can easily create a V function from Q and policy to double\n",
    "# check that the values are what you would expect."
   ]
  },
  {
   "cell_type": "markdown",
   "metadata": {},
   "source": [
    "If you want to test/submit your solution **restart the kernel, run all cells and submit the dp_autograde.py file into codegrade.**"
   ]
  }
 ],
 "metadata": {
  "kernelspec": {
   "display_name": "Python 3",
   "language": "python",
   "name": "python3"
  },
  "language_info": {
   "codemirror_mode": {
    "name": "ipython",
    "version": 3
   },
   "file_extension": ".py",
   "mimetype": "text/x-python",
   "name": "python",
   "nbconvert_exporter": "python",
   "pygments_lexer": "ipython3",
   "version": "3.7.16"
  }
 },
 "nbformat": 4,
 "nbformat_minor": 2
}
